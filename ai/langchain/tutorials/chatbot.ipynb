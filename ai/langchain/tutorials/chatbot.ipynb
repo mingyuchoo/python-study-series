{
 "cells": [
  {
   "cell_type": "code",
   "execution_count": null,
   "metadata": {},
   "outputs": [],
   "source": [
    "from langchain_aws import ChatBedrock\n",
    "from langgraph.utils.config import var_child_runnable_config\n",
    "\n",
    "model = ChatBedrock(model_id=\"anthropic.claude-3-5-sonnet-20240620-v1:0\")"
   ]
  }
 ],
 "metadata": {
  "language_info": {
   "name": "python"
  }
 },
 "nbformat": 4,
 "nbformat_minor": 5
}
