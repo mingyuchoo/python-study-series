{
    "cells": [
        {
            "cell_type": "markdown",
            "id": "8a3bd0c3-7997-42cf-ad6c-1a188862a46e",
            "metadata": {},
            "source": [
                "# LangGraph\n",
                "## Quick Start\n",
                "- https://langchain-ai.github.io/langgraph/tutorials/introduction/"
            ]
        },
        {
            "cell_type": "markdown",
            "id": "46cbb034-70c6-4774-a2d1-ab58b2a5f0c8",
            "metadata": {},
            "source": [
                "### Enhancing the Chatbot with Tools"
            ]
        },
        {
            "cell_type": "code",
            "execution_count": 1,
            "id": "abf82c0e-6008-44ab-a4c1-7fd9f4f0ff48",
            "metadata": {
                "collapsed": true,
                "jupyter": {
                    "outputs_hidden": true
                },
                "scrolled": true
            },
            "outputs": [
                {
                    "name": "stdout",
                    "output_type": "stream",
                    "text": [
                        "\u001b[2mAudited \u001b[1m10 packages\u001b[0m \u001b[2min 6ms\u001b[0m\u001b[0m\n"
                    ]
                }
            ],
            "source": [
                "!uv pip install -r requirements.txt"
            ]
        },
        {
            "cell_type": "code",
            "execution_count": 5,
            "id": "ea452249",
            "metadata": {},
            "outputs": [],
            "source": [
                "# ######################################\n",
                "# Load Environment Variables\n",
                "# ######################################\n",
                "\n",
                "import os\n",
                "from typing import Annotated, TypedDict\n",
                "from dotenv import load_dotenv\n",
                "\n",
                "load_dotenv()\n",
                "\n",
                "os.environ[\"AZURE_API_KEY\"] = os.environ[\"AZURE_OPENAI_API_KEY\"]\n",
                "os.environ[\"AZURE_API_BASE\"] = os.environ[\"AZURE_OPENAI_ENDPOINT\"]\n",
                "os.environ[\"AZURE_API_VERSION\"] = os.environ[\"AZURE_OPENAI_API_VERSION\"]\n",
                "os.environ[\"AZURE_API_MODEL\"] = os.environ[\"AZURE_OPENAI_CHAT_DEPLOYMENT_NAME\"]\n"
            ]
        },
        {
            "cell_type": "code",
            "execution_count": 6,
            "id": "f566446d-3de2-4e70-9880-bb10c58d325b",
            "metadata": {},
            "outputs": [],
            "source": [
                "\n",
                "# ######################################\n",
                "# A tool; Tavily Search\n",
                "# ######################################\n",
                "\n",
                "from langchain_community.tools.tavily_search import TavilySearchResults\n",
                "\n",
                "tool_tavily_search = TavilySearchResults(max_results=2)\n",
                "tool_tavily_search.invoke(\"What's a 'node' in LangGraph?\")\n",
                "\n",
                "tools = [tool_tavily_search]\n"
            ]
        },
        {
            "cell_type": "code",
            "execution_count": 7,
            "id": "2124c67d-03a9-4068-830a-401c2294a305",
            "metadata": {},
            "outputs": [],
            "source": [
                "# ######################################\n",
                "# Bind model with tools\n",
                "# ######################################\n",
                "\n",
                "from langchain_openai import AzureChatOpenAI\n",
                "\n",
                "llm = AzureChatOpenAI(api_version=os.environ[\"AZURE_API_VERSION\"], model=os.environ[\"AZURE_API_MODEL\"])   # Uses Azure config from environment variables\n",
                "llm_with_tools = llm.bind_tools(tools)\n"
            ]
        },
        {
            "cell_type": "code",
            "execution_count": null,
            "id": "34d67085",
            "metadata": {},
            "outputs": [],
            "source": [
                "# ######################################\n",
                "# Agent\n",
                "# ######################################\n",
                "\n",
                "from langgraph.graph.message import add_messages\n",
                "from typing_extensions import TypedDict\n",
                "\n",
                "\n",
                "class State(TypedDict):\n",
                "    messages: Annotated[list, add_messages]\n",
                "\n",
                "\n",
                "def agent(state: State):\n",
                "    return {\"messages\": [llm_with_tools.invoke(state[\"messages\"])]}\n",
                "\n"
            ]
        },
        {
            "cell_type": "code",
            "execution_count": null,
            "id": "ff3e3c44-3c6f-48fb-a17d-830f365dbd5f",
            "metadata": {},
            "outputs": [],
            "source": [
                "# ######################################\n",
                "# Graph\n",
                "# ######################################\n",
                "\n",
                "from langgraph.graph import StateGraph\n",
                "from langgraph.prebuilt import ToolNode, tools_condition\n",
                "\n",
                "tool_node = ToolNode(tools=[tool_tavily_search])\n",
                "\n",
                "graph_builder = StateGraph(State)\n",
                "graph_builder.add_node(\"agent\", agent)\n",
                "graph_builder.add_node(\"tools\", tool_node)\n",
                "graph_builder.add_conditional_edges(\"agent\", tools_condition)\n",
                "graph_builder.add_edge(\"tools\", \"agent\")\n",
                "graph_builder.set_entry_point(\"agent\")\n",
                "graph = graph_builder.compile()\n"
            ]
        },
        {
            "cell_type": "code",
            "execution_count": null,
            "id": "4035d193-c8c7-4e94-bf1d-780fc9df85ea",
            "metadata": {},
            "outputs": [
                {
                    "data": {
                        "image/png": "[encoded data removed]",
                        "text/plain": [
                            "<IPython.core.display.Image object>"
                        ]
                    },
                    "metadata": {},
                    "output_type": "display_data"
                }
            ],
            "source": [
                "# ######################################\n",
                "# Graph\n",
                "# ######################################\n",
                "\n",
                "from IPython.display import Image, display\n",
                "\n",
                "try:\n",
                "    display(Image(graph.get_graph().draw_mermaid_png()))\n",
                "except Exception:\n",
                "    # This requires some extra dependencies and is optional\n",
                "    pass"
            ]
        },
        {
            "cell_type": "code",
            "execution_count": null,
            "id": "5ca34395-d2ea-441f-a13c-5f6c4687f09d",
            "metadata": {},
            "outputs": [
                {
                    "name": "stdout",
                    "output_type": "stream",
                    "text": [
                        "Assistant: Hello! How can I assist you today?\n",
                        "Assistant: \n",
                        "Assistant: [{\"title\": \"Dow Jones INDEX TODAY | DJIA LIVE TICKER - Markets Insider\", \"url\": \"https://markets.businessinsider.com/index/dow_jones\", \"content\": \"Name | Previous Close | Last | % | +/- | Trade Time\\n3M | 138.64 | 141.12 | 1.79% | 2.48 | 04:15:00 PM\\nAmazon | 188.71 | 192.08 | 1.79% | 3.37 | 08:00:00 PM\\nAmerican Express | 276.24 | 283.66 | 2.69% | 7.42 | 04:15:00 PM\\nAmgen | 275.84 | 272.05 | -1.37% | -3.79 | 08:00:00 PM\\nApple | 196.25 | 197.49 | 0.63% | 1.24 | 08:00:00 PM\\nBoeing | 185.56 | 191.70 | 3.31% | 6.14 | 04:15:00 PM\\nCaterpillar | 320.29 | 324.25 | 1.24% | 3.96 | 04:15:00 PM\\nChevron | 135.79 | 137.04 | 0.92% | 1.25 | 04:15:00 PM [...] | 30 Days | 90 Days | 250 Days\\nPerformance | 1.87 % | -6.98 % | 1.05 %\\nHigh | 41,445.91 | 44,769.05 | 45,073.63\\nLow | 37,275.69 | 36,611.78 | 36,611.78\\nVolatility | 34.54 | 27.00 | 18.96\\nBiggest Gainers\\n\\nBiggest Losers\\n\\nMarket Cap\\n\\nName | Market Cap in M\\nS&P 500 | 50,218,588.51 USD\\nDow Jones | 17,684,210.81 USD\\nEURO STOXX 50 | 4,873,953.77 USD\\nFTSE 100 | 2,912,996.05 USD\\nCAC 40 | 2,619,309.86 USD\\nDAX | 2,337,499.70 USD\\nSMI | 1,616,929.56 USD\\nDow Jones 30 Industrial [...] McDonald's | 318.13 | 313.49 | -1.46% | -4.64 | 04:15:00 PM\\nMerck | 79.12 | 77.65 | -1.86% | -1.47 | 04:15:00 PM\\nMicrosoft | 433.35 | 438.17 | 1.11% | 4.82 | 08:00:00 PM\\nNike | 58.62 | 58.91 | 0.49% | 0.29 | 04:15:00 PM\\nNVIDIA | 117.06 | 117.37 | 0.26% | 0.31 | 08:00:00 PM\\nProcter & Gamble | 159.29 | 158.65 | -0.40% | -0.64 | 04:15:00 PM\\nSalesforce | 278.23 | 279.74 | 0.54% | 1.51 | 04:15:00 PM\\nSherwin-Williams | 351.58 | 353.57 | 0.57% | 1.99 | 04:15:00 PM\", \"score\": 0.8652358}]\n",
                        "Assistant: The current Dow Jones Index can be tracked on [Markets Insider](https://markets.businessinsider.com/index/dow_jones). This site provides the latest data including the index's high, low, performance metrics, and more details on individual companies within the index.\n",
                        "Goodbye!\n"
                    ]
                }
            ],
            "source": [
                "# ######################################\n",
                "# Run\n",
                "# ######################################\n",
                "\n",
                "def stream_graph_updates(user_input: str):\n",
                "    for event in graph.stream({\"messages\": [(\"user\", user_input)]}):\n",
                "        for value in event.values():\n",
                "            print(\"Assistant:\", value[\"messages\"][-1].content)\n",
                "\n",
                "\n",
                "while True:\n",
                "    try:\n",
                "        user_input = input(\"User: \")\n",
                "        if user_input.lower() in [\"quit\", \"exit\", \"q\"]:\n",
                "            print(\"Goodbye!\")\n",
                "            break\n",
                "\n",
                "        stream_graph_updates(user_input)\n",
                "    except:\n",
                "        # fallback if input() is not available\n",
                "        user_input = \"What do you know about LangGraph?\"\n",
                "        print(\"User: \" + user_input)\n",
                "        stream_graph_updates(user_input)\n",
                "        break\n"
            ]
        }
    ],
    "metadata": {
        "kernelspec": {
            "display_name": ".venv",
            "language": "python",
            "name": "python3"
        },
        "language_info": {
            "codemirror_mode": {
                "name": "ipython",
                "version": 3
            },
            "file_extension": ".py",
            "mimetype": "text/x-python",
            "name": "python",
            "nbconvert_exporter": "python",
            "pygments_lexer": "ipython3",
            "version": "3.13.2"
        }
    },
    "nbformat": 4,
    "nbformat_minor": 5
}